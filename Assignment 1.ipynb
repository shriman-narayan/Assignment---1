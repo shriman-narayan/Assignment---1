{
 "cells": [
  {
   "cell_type": "markdown",
   "metadata": {},
   "source": [
    "       ############   #######   Assignment 1 - (Inueron Python Tutorial)  #############    ############"
   ]
  },
  {
   "cell_type": "markdown",
   "metadata": {},
   "source": [
    "      Task 1 :-\n",
    "     \n",
    " (1)  Install jupyter notebook and run your 1st program and share the screenshot of code &  output.\n",
    "                                                   \n",
    " (2)  Write a program which will find all such numbers divisble by 7 and not a multiple of 5, \n",
    "         between (2000 and 3200) both included.\n",
    "        The numbers obtaine dshould be printed in comma separated format in a single line.\n",
    "                                                \n",
    " (3)  Write a program top accept the user's First name and last name and getting them printed in \n",
    "        reversed order with a space between First name and last name.\n",
    "    \n",
    " (4)  Write a python program to find out the volume of a sphere, whose diameter is 12 cm.\n",
    "         V = 4 / 3 (pi*r^3)"
   ]
  },
  {
   "cell_type": "markdown",
   "metadata": {},
   "source": [
    "    =>  Screenshot of a Python program running in Jupyter notebook."
   ]
  },
  {
   "cell_type": "markdown",
   "metadata": {},
   "source": [
    "<img src = \"task1.png\">"
   ]
  },
  {
   "cell_type": "code",
   "execution_count": null,
   "metadata": {},
   "outputs": [],
   "source": [
    "#    Task 1 - Question 2\n",
    "\n",
    "# Python program using for loop to find all numbers between 2000 and 3200 divisble by 7 but not a multiple of 5\n",
    "\n",
    "for i in range(2000, 3201):\n",
    "    if (i % 7 == 0) and (i % 5 != 0):\n",
    "        print (i, end = ',')\n",
    "        \n"
   ]
  },
  {
   "cell_type": "code",
   "execution_count": null,
   "metadata": {},
   "outputs": [],
   "source": [
    "#   Task 1 - question 3\n",
    "\n",
    "# Python program to asks for First name and Last name from user and print them in reversed order.\n",
    "\n",
    "# using input() for taking inputs from console\n",
    "firstname = input (\" Enter your first name : \")\n",
    "lastname =  input (\" Enter your first name : \")\n",
    "\n",
    "\n",
    "# printing the firstname and lastname in reversed order and separated with a space \n",
    "print (\"Firstname and lastname in reversed order is :\", end = ' ')\n",
    "print (firstname[::-1] + ' ' + lastname[::-1])\n",
    "\n",
    "\n",
    "#assinging a variable name\n",
    "name = firstname + ' ' + lastname\n",
    "\n",
    "# printing the name in reversed order\n",
    "print (\"The name of user in reverse order : \", name[::-1])\n"
   ]
  },
  {
   "cell_type": "code",
   "execution_count": null,
   "metadata": {},
   "outputs": [],
   "source": [
    "#   Task 1 - question 4\n",
    "\n",
    "#  Python program to find out the volume of a sphere, whose diameter is 12 cm.    Given [V = 4 / 3 (pi*r^3)]\n",
    "\n",
    "# importing math module for using 'pi'\n",
    "import math\n",
    "\n",
    "# Defining a function to find volume of sphere\n",
    "\n",
    "def sphereVol(radius):\n",
    "    return (4/3)*(math.pi)*(radius ** 3)\n",
    "\n",
    "# Driver code : Pass the radius with this sphereVol()\n",
    "sphereVol(12)\n",
    "\n",
    "\n"
   ]
  },
  {
   "cell_type": "code",
   "execution_count": 15,
   "metadata": {},
   "outputs": [
    {
     "name": "stdout",
     "output_type": "stream",
     "text": [
      "4\n",
      "3\n",
      "2\n",
      "1\n"
     ]
    }
   ],
   "source": [
    "n = 5\n",
    "for i in range (n-1, 0, -1):\n",
    "    print (i)\n"
   ]
  },
  {
   "cell_type": "markdown",
   "metadata": {},
   "source": [
    "      Task 2 :-\n",
    "        \n",
    " (1)  Write a program which acccept a sequence of comma-separated numbers from console and generate a list.\n",
    "\n",
    " (2)  Create a pattern using Nested for loops in python.\n",
    "    \n",
    "        *\n",
    "        * *\n",
    "        * * *\n",
    "        * * * *\n",
    "        * * * * *\n",
    "        * * * * \n",
    "        * * *\n",
    "        * *\n",
    "        *\n",
    "        \n",
    " (3)  Write a code to reverse a word after acccepting input From user.\n",
    "      \n",
    "        sample -> Input ->  AcadGild       Output ->  dilgdacA\n",
    "        \n",
    " (4)  Write a program to print the given string in format specified in sample output.\n",
    "\n",
    "      WE, THE PEOPLE OF INDIA,  having solemnly resolved to constitute India into a \n",
    "       SOVEREIGN, SOCIALIST, SECULAR, DEMOCRATIC REPUBLIC,  and to sevure to all\n",
    "         it's citizens.\n",
    "            \n",
    "    output ->  WE, THE PEOLPE OF INDIA,\n",
    "                     having solemnly resolved to constitute India into a SOVEREIGN\n",
    "                 SOCIALIST, SECULAR, DEMOCRATIC REPUBLIC and to secure all it's citizens."
   ]
  },
  {
   "cell_type": "code",
   "execution_count": 1,
   "metadata": {},
   "outputs": [
    {
     "name": "stdout",
     "output_type": "stream",
     "text": [
      "Enter multiple values : 1,2,3,4,5,6\n",
      "The generated list is :  [1, 2, 3, 4, 5, 6]\n",
      "\n",
      "\n",
      "Enter multiple values : 1,2,3,4,5,6\n",
      " The generated list is :  [1, 2, 3, 4, 5, 6]\n"
     ]
    }
   ],
   "source": [
    "#  Task 2 - Question 1\n",
    "\n",
    "# Python program to accept a sequence of comma separated numbers from console and generate a list\n",
    "\n",
    "# Approach 1: Python program to accept comma-separated values using input()\n",
    "list1 = [int(x) for x in input(\"Enter multiple values : \").split(',')] \n",
    "\n",
    "# Printing the list\n",
    "print (\"The generated list is : \", list1)\n",
    "\n",
    "print(\"\\n\")\n",
    "\n",
    "# Appropach 2 : Python program to generate a list using map() and input() by accepting comma-separated values\n",
    "\n",
    "list2 = list(map(int, input(\"Enter multiple values : \").split(','))) \n",
    "print (\" The generated list is : \", list2)\n",
    "\n"
   ]
  },
  {
   "cell_type": "code",
   "execution_count": 27,
   "metadata": {},
   "outputs": [
    {
     "name": "stdout",
     "output_type": "stream",
     "text": [
      "* \r\n",
      "* * \r\n",
      "* * * \r\n",
      "* * * * \r\n",
      "* * * * * \r\n",
      "* * * * \r\n",
      "* * * \r\n",
      "* * \r\n",
      "* \r\n"
     ]
    }
   ],
   "source": [
    "#  Task 2 - Question 2\n",
    "\n",
    "# Python program to make a pattern using Nested for loops\n",
    "\n",
    "# Defining a function for pattern\n",
    "def pattern(n):\n",
    "    \n",
    "    # Making an outer loop for handling no. of rows\n",
    "    for i in range(0, n):\n",
    "        \n",
    "        # making an inner loop for columns\n",
    "        for j in range(0, i + 1):\n",
    "            \n",
    "            \n",
    "            print(\"* \", end=\"\")\n",
    "        \n",
    "        print(\"\\r\")\n",
    "      \n",
    "    # making another outer loop for left rows\n",
    "    for i in range(n-1, 0 , -1):\n",
    "        \n",
    "        # Making an inner loop for columns\n",
    "        for j in range(0, i):\n",
    "            \n",
    "            print(\"* \", end=\"\")\n",
    "        \n",
    "        print(\"\\r\")\n",
    " \n",
    "pattern(5)"
   ]
  },
  {
   "cell_type": "code",
   "execution_count": null,
   "metadata": {},
   "outputs": [],
   "source": [
    "#   task 2 - Question 3\n",
    "\n",
    "# Python program to accept a string from console and reverse it\n",
    "\n",
    "# Assigning a variable word\n",
    "word = input(\"Enter a word : \")\n",
    "\n",
    "# printing the word \n",
    "print (\" Our word is : \", word)\n",
    "\n",
    "# printing the word in reversed worder\n",
    "print ( \"The word in reversed order is : \", word[::-1])\n"
   ]
  },
  {
   "cell_type": "code",
   "execution_count": null,
   "metadata": {},
   "outputs": [],
   "source": [
    "#   task 2 - question 4\n",
    "\n",
    "# Python program to write a multiline string in a specified order\n",
    "\n",
    "old_string =    '''   WE, THE PEOPLE OF INDIA,  having solemnly resolved to constitute India into a \n",
    "                          SOVEREIGN, SOCIALIST, SECULAR, DEMOCRATIC REPUBLIC,  and to sevure to all\n",
    "                        it's citizens.'''\n",
    "\n",
    "# Assigning new strings\n",
    "string1 = 'WE, THE PEOPLE OF INDIA,'\n",
    "string2 = '    having solemnly resolved to constitute India into a SOVEREIGN,'\n",
    "string3 = \" SOCIALIST, SECULAR, DEMOCRATIC REPUBLIC and to secure all it's citizens.\"\n",
    "\n",
    "# Printing the string in specified manner\n",
    "\n",
    "print ( string1, string2, string3, sep = \"\\n\")\n"
   ]
  },
  {
   "cell_type": "code",
   "execution_count": null,
   "metadata": {},
   "outputs": [],
   "source": []
  }
 ],
 "metadata": {
  "kernelspec": {
   "display_name": "Python 3",
   "language": "python",
   "name": "python3"
  },
  "language_info": {
   "codemirror_mode": {
    "name": "ipython",
    "version": 3
   },
   "file_extension": ".py",
   "mimetype": "text/x-python",
   "name": "python",
   "nbconvert_exporter": "python",
   "pygments_lexer": "ipython3",
   "version": "3.7.7"
  }
 },
 "nbformat": 4,
 "nbformat_minor": 4
}
