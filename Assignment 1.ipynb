{
 "cells": [
  {
   "cell_type": "markdown",
   "metadata": {},
   "source": [
    "       ############   #######   Assignment 1 - (Inueron Python Tutorial)  #############    ############"
   ]
  },
  {
   "cell_type": "markdown",
   "metadata": {},
   "source": [
    "      Task 1 :-\n",
    "     \n",
    " (1)  Install jupyter notebook and run your 1st program and share the screenshot of code &  output.\n",
    "                                                   \n",
    " (2)  Write a program which will find all such numbers divisble by 7 and not a multiple of 5, \n",
    "         between (2000 and 3200) both included.\n",
    "        The numbers obtaine dshould be printed in comma separated format in a single line.\n",
    "                                                \n",
    " (3)  Write a program top accept the user's First name and last name and getting them printed in \n",
    "        reversed order with a space between First name and last name.\n",
    "    \n",
    " (4)  Write a python program to find out the volume of a sphere, whose diameter is 12 cm.\n",
    "         V = 4 / 3 (pi*r^3)"
   ]
  },
  {
   "cell_type": "markdown",
   "metadata": {},
   "source": [
    "    Task 1 - Question 1\n",
    "   \n",
    "   =>  The Screenshot of a Python program running in Jupyter notebook has been uploaded in the similar github                  repository.  \n",
    "   =>   Link of that particular image has been added in below shell."
   ]
  },
  {
   "cell_type": "markdown",
   "metadata": {},
   "source": [
    "[Screenshot of a Python program running in Jupyter notebook](https://github.com/shriman-narayan/Assignment-1/blob/master/task1.png)"
   ]
  },
  {
   "cell_type": "code",
   "execution_count": 2,
   "metadata": {},
   "outputs": [
    {
     "name": "stdout",
     "output_type": "stream",
     "text": [
      "2002,2009,2016,2023,2037,2044,2051,2058,2072,2079,2086,2093,2107,2114,2121,2128,2142,2149,2156,2163,2177,2184,2191,2198,2212,2219,2226,2233,2247,2254,2261,2268,2282,2289,2296,2303,2317,2324,2331,2338,2352,2359,2366,2373,2387,2394,2401,2408,2422,2429,2436,2443,2457,2464,2471,2478,2492,2499,2506,2513,2527,2534,2541,2548,2562,2569,2576,2583,2597,2604,2611,2618,2632,2639,2646,2653,2667,2674,2681,2688,2702,2709,2716,2723,2737,2744,2751,2758,2772,2779,2786,2793,2807,2814,2821,2828,2842,2849,2856,2863,2877,2884,2891,2898,2912,2919,2926,2933,2947,2954,2961,2968,2982,2989,2996,3003,3017,3024,3031,3038,3052,3059,3066,3073,3087,3094,3101,3108,3122,3129,3136,3143,3157,3164,3171,3178,3192,3199,"
     ]
    }
   ],
   "source": [
    "#    Task 1 - Question 2\n",
    "\n",
    "# Python program using for loop to find all numbers between 2000 and 3200 divisble by 7 but not a multiple of 5\n",
    "\n",
    "for i in range(2000, 3201):\n",
    "    if (i % 7 == 0) and (i % 5 != 0):\n",
    "        print (i, end = ',')\n",
    "        \n"
   ]
  },
  {
   "cell_type": "code",
   "execution_count": null,
   "metadata": {},
   "outputs": [
    {
     "name": "stdout",
     "output_type": "stream",
     "text": [
      " Enter your first name : \n"
     ]
    }
   ],
   "source": [
    "#   Task 1 - question 3\n",
    "\n",
    "# Python program to asks for First name and Last name from user and print them in reversed order.\n",
    "\n",
    "# using input() for taking inputs from console\n",
    "firstname = input (\" Enter your first name : \")\n",
    "lastname =  input (\" Enter your first name : \")\n",
    "\n",
    "\n",
    "# printing the firstname and lastname in reversed order and separated with a space \n",
    "print (\"Firstname and lastname in reversed order is :\", end = ' ')\n",
    "print (firstname[::-1] + ' ' + lastname[::-1])\n",
    "\n",
    "\n",
    "#assinging a variable name\n",
    "name = firstname + ' ' + lastname\n",
    "\n",
    "# printing the name in reversed order\n",
    "print (\"The name of user in reverse order : \", name[::-1])\n"
   ]
  },
  {
   "cell_type": "code",
   "execution_count": null,
   "metadata": {},
   "outputs": [],
   "source": [
    "#   Task 1 - question 4\n",
    "\n",
    "#  Python program to find out the volume of a sphere, whose diameter is 12 cm.    Given [V = 4 / 3 (pi*r^3)]\n",
    "\n",
    "# importing math module for using 'pi'\n",
    "import math\n",
    "\n",
    "# Defining a function to find volume of sphere\n",
    "\n",
    "def sphereVol(radius):\n",
    "    return (4/3)*(math.pi)*(radius ** 3)\n",
    "\n",
    "# Driver code : Pass the radius with this sphereVol()\n",
    "sphereVol(12)\n",
    "\n",
    "\n"
   ]
  },
  {
   "cell_type": "code",
   "execution_count": null,
   "metadata": {},
   "outputs": [],
   "source": [
    "n = 5\n",
    "for i in range (n-1, 0, -1):\n",
    "    print (i)\n"
   ]
  },
  {
   "cell_type": "markdown",
   "metadata": {},
   "source": [
    "      Task 2 :-\n",
    "        \n",
    " (1)  Write a program which acccept a sequence of comma-separated numbers from console and generate a list.\n",
    "\n",
    " (2)  Create a pattern using Nested for loops in python.\n",
    "    \n",
    "        *\n",
    "        * *\n",
    "        * * *\n",
    "        * * * *\n",
    "        * * * * *\n",
    "        * * * * \n",
    "        * * *\n",
    "        * *\n",
    "        *\n",
    "        \n",
    " (3)  Write a code to reverse a word after acccepting input From user.\n",
    "      \n",
    "        sample -> Input ->  AcadGild       Output ->  dilgdacA\n",
    "        \n",
    " (4)  Write a program to print the given string in format specified in sample output.\n",
    "\n",
    "      WE, THE PEOPLE OF INDIA,  having solemnly resolved to constitute India into a \n",
    "       SOVEREIGN, SOCIALIST, SECULAR, DEMOCRATIC REPUBLIC,  and to sevure to all\n",
    "         it's citizens.\n",
    "            \n",
    "    output ->  WE, THE PEOLPE OF INDIA,\n",
    "                     having solemnly resolved to constitute India into a SOVEREIGN\n",
    "                 SOCIALIST, SECULAR, DEMOCRATIC REPUBLIC and to secure all it's citizens."
   ]
  },
  {
   "cell_type": "code",
   "execution_count": null,
   "metadata": {},
   "outputs": [],
   "source": [
    "#  Task 2 - Question 1\n",
    "\n",
    "# Python program to accept a sequence of comma separated numbers from console and generate a list\n",
    "\n",
    "# Approach 1: Python program to accept comma-separated values using input()\n",
    "list1 = [int(x) for x in input(\"Enter multiple values : \").split(',')] \n",
    "\n",
    "# Printing the list\n",
    "print (\"The generated list is : \", list1)\n",
    "\n",
    "print(\"\\n\")\n",
    "\n",
    "# Appropach 2 : Python program to generate a list using map() and input() by accepting comma-separated values\n",
    "\n",
    "list2 = list(map(int, input(\"Enter multiple values : \").split(','))) \n",
    "print (\" The generated list is : \", list2)\n",
    "\n"
   ]
  },
  {
   "cell_type": "code",
   "execution_count": null,
   "metadata": {},
   "outputs": [],
   "source": [
    "#  Task 2 - Question 2\n",
    "\n",
    "# Python program to make a pattern using Nested for loops\n",
    "\n",
    "# Defining a function for pattern\n",
    "def pattern(n):\n",
    "    \n",
    "    # Making an outer loop for handling no. of rows\n",
    "    for i in range(0, n):\n",
    "        \n",
    "        # making an inner loop for columns\n",
    "        for j in range(0, i + 1):\n",
    "            \n",
    "            \n",
    "            print(\"* \", end=\"\")\n",
    "        \n",
    "        print(\"\\r\")\n",
    "      \n",
    "    # making another outer loop for left rows\n",
    "    for i in range(n-1, 0 , -1):\n",
    "        \n",
    "        # Making an inner loop for columns\n",
    "        for j in range(0, i):\n",
    "            \n",
    "            print(\"* \", end=\"\")\n",
    "        \n",
    "        print(\"\\r\")\n",
    " \n",
    "pattern(5)"
   ]
  },
  {
   "cell_type": "code",
   "execution_count": null,
   "metadata": {},
   "outputs": [],
   "source": [
    "#   task 2 - Question 3\n",
    "\n",
    "# Python program to accept a string from console and reverse it\n",
    "\n",
    "# Assigning a variable word\n",
    "word = input(\"Enter a word : \")\n",
    "\n",
    "# printing the word \n",
    "print (\" Our word is : \", word)\n",
    "\n",
    "# printing the word in reversed worder\n",
    "print ( \"The word in reversed order is : \", word[::-1])\n"
   ]
  },
  {
   "cell_type": "code",
   "execution_count": null,
   "metadata": {},
   "outputs": [],
   "source": [
    "#   task 2 - question 4\n",
    "\n",
    "# Python program to write a multiline string in a specified order\n",
    "\n",
    "old_string =    '''   WE, THE PEOPLE OF INDIA,  having solemnly resolved to constitute India into a \n",
    "                          SOVEREIGN, SOCIALIST, SECULAR, DEMOCRATIC REPUBLIC,  and to sevure to all\n",
    "                        it's citizens.'''\n",
    "\n",
    "# Assigning new strings\n",
    "string1 = 'WE, THE PEOPLE OF INDIA,'\n",
    "string2 = '    having solemnly resolved to constitute India into a SOVEREIGN,'\n",
    "string3 = \" SOCIALIST, SECULAR, DEMOCRATIC REPUBLIC and to secure all it's citizens.\"\n",
    "\n",
    "# Printing the string in specified manner\n",
    "\n",
    "print ( string1, string2, string3, sep = \"\\n\")\n"
   ]
  }
 ],
 "metadata": {
  "kernelspec": {
   "display_name": "Python 3",
   "language": "python",
   "name": "python3"
  },
  "language_info": {
   "codemirror_mode": {
    "name": "ipython",
    "version": 3
   },
   "file_extension": ".py",
   "mimetype": "text/x-python",
   "name": "python",
   "nbconvert_exporter": "python",
   "pygments_lexer": "ipython3",
   "version": "3.7.7"
  }
 },
 "nbformat": 4,
 "nbformat_minor": 4
}
